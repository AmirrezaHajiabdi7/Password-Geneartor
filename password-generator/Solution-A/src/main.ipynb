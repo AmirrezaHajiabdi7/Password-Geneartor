{
 "cells": [
  {
   "cell_type": "code",
   "execution_count": 27,
   "id": "18ea80f3",
   "metadata": {},
   "outputs": [
    {
     "name": "stdout",
     "output_type": "stream",
     "text": [
      "PIN: 4058\n",
      "Random Password: SvPl-F6Ebu`n\";&P\n",
      "Memorable Password: PROTAGON_toady_DEVOCALIZATION_uneffaced\n"
     ]
    }
   ],
   "source": [
    "import random\n",
    "import string\n",
    "from abc import ABC, abstractmethod\n",
    "from typing import List, Optional\n",
    "\n",
    "import nltk\n",
    "from nltk.corpus import words\n",
    "\n",
    "\n",
    "nltk.download('words', quiet=True)\n",
    "\n",
    "\n",
    "class PasswordGeneration(ABC):\n",
    "    @abstractmethod\n",
    "    def generate(self) -> str:\n",
    "        pass\n",
    "\n",
    "\n",
    "class PinGeneration(PasswordGeneration):\n",
    "    def __init__(self, length: int = 4):\n",
    "        self.length = length\n",
    "\n",
    "    def generate(self) -> str:\n",
    "        return ''.join(random.choice(string.digits) for _ in range(self.length))\n",
    "\n",
    "\n",
    "class RandomPasswordGeneration(PasswordGeneration):\n",
    "    def __init__(self, length: int = 16, include_numbers: bool = False, include_punctuation: bool = False):\n",
    "        self.length = length\n",
    "        self.characters: str = string.ascii_letters\n",
    "        if include_numbers:\n",
    "            self.characters += string.digits\n",
    "        if include_punctuation:\n",
    "            self.characters += string.punctuation\n",
    "\n",
    "    def generate(self) -> str:\n",
    "        return ''.join(random.choice(self.characters) for _ in range(self.length))\n",
    "\n",
    "\n",
    "class MemorablePasswordGeneration(PasswordGeneration):\n",
    "    def __init__(\n",
    "            self,\n",
    "            num_of_words: int = 4,\n",
    "            separator: str = '_',\n",
    "            capitalize: bool = False,\n",
    "            vocabulary: Optional[List[str]] = None\n",
    "    ):\n",
    "        if vocabulary is None:\n",
    "            vocabulary = words.words()\n",
    "\n",
    "        self.num_of_words: int = num_of_words\n",
    "        self.capitalize: bool = capitalize\n",
    "        self.separator: str = separator\n",
    "        self.vocabulary: List[str] = vocabulary\n",
    "\n",
    "    def generate(self) -> str:\n",
    "        pass_words = [random.choice(self.vocabulary) for _ in range(self.num_of_words)]\n",
    "        if self.capitalize:\n",
    "            pass_words = [\n",
    "                word.upper() if random.choice([True, False]) else word.lower()\n",
    "                for word in pass_words\n",
    "            ]\n",
    "        return self.separator.join(pass_words)\n",
    "\n",
    "\n",
    "\n",
    "if __name__ == \"__main__\":\n",
    "    print(\"PIN:\", PinGeneration().generate())\n",
    "    print(\"Random Password:\", RandomPasswordGeneration(include_numbers=True, include_punctuation=True).generate())\n",
    "    print(\"Memorable Password:\", MemorablePasswordGeneration(capitalize=True).generate())\n"
   ]
  },
  {
   "cell_type": "code",
   "execution_count": null,
   "id": "aeff4136",
   "metadata": {},
   "outputs": [],
   "source": []
  }
 ],
 "metadata": {
  "kernelspec": {
   "display_name": "python-project",
   "language": "python",
   "name": "python3"
  },
  "language_info": {
   "codemirror_mode": {
    "name": "ipython",
    "version": 3
   },
   "file_extension": ".py",
   "mimetype": "text/x-python",
   "name": "python",
   "nbconvert_exporter": "python",
   "pygments_lexer": "ipython3",
   "version": "3.12.11"
  }
 },
 "nbformat": 4,
 "nbformat_minor": 5
}
